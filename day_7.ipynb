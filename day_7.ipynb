{
 "cells": [
  {
   "cell_type": "code",
   "execution_count": 2,
   "id": "2acb48c8-2d86-4915-9f82-cbb30e372680",
   "metadata": {},
   "outputs": [
    {
     "data": {
      "text/plain": [
       "7"
      ]
     },
     "execution_count": 2,
     "metadata": {},
     "output_type": "execute_result"
    }
   ],
   "source": [
    "3+4"
   ]
  },
  {
   "cell_type": "code",
   "execution_count": 3,
   "id": "82da952d-e467-4752-9beb-64d3df496ecc",
   "metadata": {},
   "outputs": [
    {
     "name": "stdout",
     "output_type": "stream",
     "text": [
      "welcome to machine learning\n"
     ]
    }
   ],
   "source": [
    "print(\"welcome to machine learning\")"
   ]
  },
  {
   "cell_type": "code",
   "execution_count": 4,
   "id": "7459544a-0290-491c-b44f-0f6efa901c21",
   "metadata": {},
   "outputs": [],
   "source": [
    "# 1st Heading"
   ]
  },
  {
   "cell_type": "markdown",
   "id": "7ea33b19-ae16-4942-be87-25d78c96be03",
   "metadata": {},
   "source": [
    "## 2nd heading"
   ]
  },
  {
   "cell_type": "markdown",
   "id": "1692ea12-6b55-4814-93b9-8cdd8d405148",
   "metadata": {},
   "source": [
    "### 3rd heading"
   ]
  },
  {
   "cell_type": "markdown",
   "id": "6c8fc43a-34fe-4031-90e2-8c3e49db88a8",
   "metadata": {},
   "source": [
    "* this is first point\n",
    "* this is second point"
   ]
  },
  {
   "cell_type": "markdown",
   "id": "ffd99454-602d-4a12-9997-431f08f6c133",
   "metadata": {},
   "source": [
    "1. this is third point\n",
    "2. this is fourth point"
   ]
  },
  {
   "cell_type": "code",
   "execution_count": 5,
   "id": "e6198b35-028e-4435-a65b-300ae8671df1",
   "metadata": {},
   "outputs": [],
   "source": [
    "import os"
   ]
  },
  {
   "cell_type": "code",
   "execution_count": 6,
   "id": "c570a514-c01f-4d8e-a65a-557ce8235b9a",
   "metadata": {},
   "outputs": [
    {
     "data": {
      "text/plain": [
       "'c:\\\\Users\\\\lenovo\\\\OneDrive\\\\Desktop\\\\python class'"
      ]
     },
     "execution_count": 6,
     "metadata": {},
     "output_type": "execute_result"
    }
   ],
   "source": [
    "os.getcwd()"
   ]
  },
  {
   "cell_type": "code",
   "execution_count": 7,
   "id": "283b86f6-90da-4810-b00a-038cbfd3e162",
   "metadata": {},
   "outputs": [
    {
     "ename": "AttributeError",
     "evalue": "module 'os' has no attribute 'chidr'",
     "output_type": "error",
     "traceback": [
      "\u001b[1;31m---------------------------------------------------------------------------\u001b[0m",
      "\u001b[1;31mAttributeError\u001b[0m                            Traceback (most recent call last)",
      "Cell \u001b[1;32mIn [7], line 1\u001b[0m\n\u001b[1;32m----> 1\u001b[0m os\u001b[39m.\u001b[39;49mchidr(\u001b[39mf\u001b[39m\u001b[39m'\u001b[39m\u001b[39mOneDrive/Desktop/python class/classes shell/class 6.py\u001b[39m\u001b[39m'\u001b[39m)\n",
      "\u001b[1;31mAttributeError\u001b[0m: module 'os' has no attribute 'chidr'"
     ]
    }
   ],
   "source": [
    "os.chidr(f'OneDrive/Desktop/python class/classes shell/class 6.py')"
   ]
  },
  {
   "cell_type": "code",
   "execution_count": null,
   "id": "22cba344-11e2-4347-8b90-3b6faa78f384",
   "metadata": {},
   "outputs": [
    {
     "data": {
      "text/plain": [
       "['.ipynb_checkpoints', 'classes shell', 'day_7.ipynb', 'editor', 'NUMPY']"
      ]
     },
     "execution_count": 17,
     "metadata": {},
     "output_type": "execute_result"
    }
   ],
   "source": [
    "os.listdir('C:\\\\Users\\\\lenovo\\\\OneDrive/Desktop/python class')"
   ]
  },
  {
   "cell_type": "code",
   "execution_count": null,
   "id": "c3f7c14e-b32e-4eb6-9143-0e518003666f",
   "metadata": {},
   "outputs": [],
   "source": [
    "# to create a folder\n",
    "os.mkdir('empty folder')"
   ]
  },
  {
   "cell_type": "code",
   "execution_count": null,
   "id": "bfbdb632-361a-4846-9468-fa2f30b4f93e",
   "metadata": {},
   "outputs": [],
   "source": [
    "# to remove a folder\n",
    "os.rmdir('empty folder')"
   ]
  },
  {
   "cell_type": "markdown",
   "id": "45ec5c06-1de1-4459-a4ec-146b5cf333f7",
   "metadata": {},
   "source": [
    "# random"
   ]
  },
  {
   "cell_type": "code",
   "execution_count": null,
   "id": "5d4a414b-5b0e-415d-80f0-c522a95528b4",
   "metadata": {},
   "outputs": [],
   "source": [
    "import random"
   ]
  },
  {
   "cell_type": "code",
   "execution_count": null,
   "id": "931d7cd4-3201-454e-acaf-b4a08fb76dbd",
   "metadata": {},
   "outputs": [
    {
     "name": "stdout",
     "output_type": "stream",
     "text": [
      "0.36967394132521436\n"
     ]
    }
   ],
   "source": [
    "val=random.random()\n",
    "print(val)"
   ]
  },
  {
   "cell_type": "code",
   "execution_count": null,
   "id": "5f602e14-a650-4315-8cc1-d4a5e816e61d",
   "metadata": {},
   "outputs": [],
   "source": [
    "val2 = random.randint(1,10)"
   ]
  },
  {
   "cell_type": "code",
   "execution_count": null,
   "id": "40a6099f-ed9f-4d2e-b28b-496623fcac61",
   "metadata": {},
   "outputs": [
    {
     "data": {
      "text/plain": [
       "1"
      ]
     },
     "execution_count": 23,
     "metadata": {},
     "output_type": "execute_result"
    }
   ],
   "source": [
    "val2"
   ]
  },
  {
   "cell_type": "code",
   "execution_count": null,
   "id": "8b356280-bdda-4c7f-97de-98ef3a18ea9c",
   "metadata": {},
   "outputs": [
    {
     "name": "stdout",
     "output_type": "stream",
     "text": [
      "hello\n"
     ]
    }
   ],
   "source": [
    "m=['hi','hello','harry','howdy']\n",
    "val = random.choice(m)\n",
    "print(val)"
   ]
  },
  {
   "cell_type": "code",
   "execution_count": null,
   "id": "916cb461-1c1f-459e-a1e7-7badab82109e",
   "metadata": {},
   "outputs": [
    {
     "name": "stdout",
     "output_type": "stream",
     "text": [
      "['hi', 'harry', 'hi']\n"
     ]
    }
   ],
   "source": [
    "m = ['hi','hello','harry','howdy']\n",
    "val = random.choices(m,k=3)\n",
    "print(val)"
   ]
  },
  {
   "cell_type": "code",
   "execution_count": null,
   "id": "cf42cb30-c7ee-47ba-8732-8e7bf93ed8d6",
   "metadata": {},
   "outputs": [
    {
     "name": "stdout",
     "output_type": "stream",
     "text": [
      "['hi', 'hello', 'howdy', 'harry']\n"
     ]
    }
   ],
   "source": [
    "# shuffle\n",
    "random.shuffle(m)\n",
    "print(m)"
   ]
  },
  {
   "cell_type": "code",
   "execution_count": null,
   "id": "90467ab3-7939-4805-8ce4-7a93d1df4382",
   "metadata": {},
   "outputs": [],
   "source": []
  },
  {
   "cell_type": "code",
   "execution_count": null,
   "id": "aabd7048-a709-4e31-b716-27dfe5569c84",
   "metadata": {},
   "outputs": [],
   "source": []
  }
 ],
 "metadata": {
  "kernelspec": {
   "display_name": "Python 3.10.7 64-bit (microsoft store)",
   "language": "python",
   "name": "python3"
  },
  "language_info": {
   "codemirror_mode": {
    "name": "ipython",
    "version": 3
   },
   "file_extension": ".py",
   "mimetype": "text/x-python",
   "name": "python",
   "nbconvert_exporter": "python",
   "pygments_lexer": "ipython3",
   "version": "3.10.7"
  },
  "vscode": {
   "interpreter": {
    "hash": "5c41cc7a6bf458ae2af5583a7906ef5f402c759b4882f3cbfc8ede19b81b2d2f"
   }
  }
 },
 "nbformat": 4,
 "nbformat_minor": 5
}
