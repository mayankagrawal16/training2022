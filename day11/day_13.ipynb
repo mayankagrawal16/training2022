{
 "cells": [
  {
   "cell_type": "code",
   "execution_count": 4,
   "id": "b96dff5a-c38b-4598-bc80-fcbf52c251e6",
   "metadata": {},
   "outputs": [
    {
     "ename": "ModuleNotFoundError",
     "evalue": "No module named 'pandas'",
     "output_type": "error",
     "traceback": [
      "\u001b[1;31m---------------------------------------------------------------------------\u001b[0m",
      "\u001b[1;31mModuleNotFoundError\u001b[0m                       Traceback (most recent call last)",
      "Cell \u001b[1;32mIn [4], line 1\u001b[0m\n\u001b[1;32m----> 1\u001b[0m \u001b[38;5;28;01mimport\u001b[39;00m \u001b[38;5;21;01mpandas\u001b[39;00m \u001b[38;5;28;01mas\u001b[39;00m \u001b[38;5;21;01mpd\u001b[39;00m\n",
      "\u001b[1;31mModuleNotFoundError\u001b[0m: No module named 'pandas'"
     ]
    }
   ],
   "source": [
    "import pandas as pd"
   ]
  },
  {
   "cell_type": "markdown",
   "id": "2b9918e1-94d1-424b-ac55-5ba274400897",
   "metadata": {},
   "source": [
    "## Data analysis\n",
    "1. description\n",
    "2. diagnosis\n",
    "3. prediction\n",
    "4. action/prescription\n"
   ]
  },
  {
   "cell_type": "code",
   "execution_count": null,
   "id": "bb997a60-73ff-4869-a955-941337f8fd8b",
   "metadata": {},
   "outputs": [],
   "source": [
    "# column names\n",
    "cols=['user_id','movie_id','rating','ts']"
   ]
  },
  {
   "cell_type": "code",
   "execution_count": null,
   "id": "637f038f-81a7-4be6-ba50-c49ce2c218ff",
   "metadata": {},
   "outputs": [],
   "source": [
    "df=pd.read_csv('u.data')"
   ]
  },
  {
   "cell_type": "code",
   "execution_count": null,
   "id": "b5eafbe6-bd79-469f-a047-22749168b7e4",
   "metadata": {},
   "outputs": [],
   "source": [
    "df.head()"
   ]
  },
  {
   "cell_type": "code",
   "execution_count": null,
   "id": "07c820fc-7110-41dd-ac99-8f9e917b5353",
   "metadata": {},
   "outputs": [],
   "source": [
    "# read the file\n",
    "df=pd.read_csv('u.data',sep='\\t')"
   ]
  },
  {
   "cell_type": "code",
   "execution_count": null,
   "id": "907e9c49-bbf1-4b49-ab87-ccc75e6f2dba",
   "metadata": {},
   "outputs": [],
   "source": [
    "df.head()"
   ]
  },
  {
   "cell_type": "code",
   "execution_count": null,
   "id": "701dc4d0-7ae4-4f85-bcec-0d3623a4b181",
   "metadata": {},
   "outputs": [],
   "source": [
    "# list comparison\n",
    "a=[2,4,5,67,8]"
   ]
  },
  {
   "cell_type": "code",
   "execution_count": null,
   "id": "ca714b6f-5d05-4d9c-a003-49637e64378e",
   "metadata": {},
   "outputs": [],
   "source": [
    "#b=[4,5,56,67,6]"
   ]
  },
  {
   "cell_type": "code",
   "execution_count": null,
   "id": "63f6759d-f82c-4486-b502-84fb41683930",
   "metadata": {},
   "outputs": [],
   "source": [
    "b=[]\n",
    "for i in a:\n",
    "    b.append(i*2)\n",
    "    "
   ]
  },
  {
   "cell_type": "code",
   "execution_count": null,
   "id": "5d0dca00-79a0-4440-ba94-e9ad6e06f2ce",
   "metadata": {},
   "outputs": [],
   "source": [
    "item_cols=['movie_id','title']+[str(i) for i in range(22)]"
   ]
  },
  {
   "cell_type": "code",
   "execution_count": null,
   "id": "80bd9206-ef28-4b4c-a767-e15ae1c64bf8",
   "metadata": {},
   "outputs": [],
   "source": [
    "df=pd.read_csv('u.data',sep='\\t',names=cols)"
   ]
  },
  {
   "cell_type": "code",
   "execution_count": null,
   "id": "09e4b927-faff-44a2-ac9f-893f6ebfc98c",
   "metadata": {},
   "outputs": [],
   "source": [
    "#read the other file\n",
    "df1=pd.read_csv('u.item',sep='|',encoding=\"ISO-8859-1\",names=item_cols)[['movie_id','title']]"
   ]
  },
  {
   "cell_type": "code",
   "execution_count": null,
   "id": "f260b372-7c84-4e32-81aa-42fdd5ab870f",
   "metadata": {},
   "outputs": [],
   "source": [
    "df1.shape"
   ]
  },
  {
   "cell_type": "markdown",
   "id": "81c9e753-2621-490f-bd29-2ef4797f3d81",
   "metadata": {},
   "source": [
    "# Exploratory data analysis"
   ]
  },
  {
   "cell_type": "code",
   "execution_count": null,
   "id": "8959b21a-ea95-475d-a14a-8aff4167dc66",
   "metadata": {},
   "outputs": [],
   "source": [
    "df.sample(5)"
   ]
  },
  {
   "cell_type": "code",
   "execution_count": null,
   "id": "361fff9c-19d1-4f92-8923-977b569d1491",
   "metadata": {},
   "outputs": [],
   "source": [
    "df1.sample(5)"
   ]
  },
  {
   "cell_type": "code",
   "execution_count": null,
   "id": "99ae3339-3a94-4507-9fe6-d27bfce49813",
   "metadata": {},
   "outputs": [],
   "source": [
    "df.info()"
   ]
  },
  {
   "cell_type": "code",
   "execution_count": null,
   "id": "51ef360b-7a53-4eed-9076-3fe08d68bff7",
   "metadata": {},
   "outputs": [],
   "source": [
    "df.describe()"
   ]
  },
  {
   "cell_type": "code",
   "execution_count": null,
   "id": "e1342212-549c-47ca-80e1-66669b123037",
   "metadata": {},
   "outputs": [],
   "source": [
    "df.describe(include='all')\n",
    "# this will show all the columns by default it show only nuimeric data"
   ]
  },
  {
   "cell_type": "markdown",
   "id": "fe6703e5-890e-452c-9a61-3f59b03faa82",
   "metadata": {},
   "source": [
    "# try to find different data type\n",
    "1. string with categorial info\n",
    "2. string with random stuff\n",
    "3. number with quantified info\n",
    "4. number with categorial info\n",
    "5. andom number or id sort of data"
   ]
  },
  {
   "cell_type": "code",
   "execution_count": null,
   "id": "35f22779-0169-4eaa-aa4e-8f3cc401184d",
   "metadata": {},
   "outputs": [],
   "source": [
    "df.columns"
   ]
  },
  {
   "cell_type": "code",
   "execution_count": null,
   "id": "da2edb56-fc91-41fa-a25f-c91597808ff6",
   "metadata": {},
   "outputs": [],
   "source": [
    "df['rating'].unique()"
   ]
  },
  {
   "cell_type": "code",
   "execution_count": null,
   "id": "834c6d6b-435e-49b2-9ab6-5d3c5cc5b032",
   "metadata": {},
   "outputs": [],
   "source": [
    "df['rating'].nunique()"
   ]
  },
  {
   "cell_type": "code",
   "execution_count": null,
   "id": "e00f9212-4065-4c9f-a81e-6bb7899d554d",
   "metadata": {},
   "outputs": [],
   "source": [
    "df['user_id'].nunique()"
   ]
  },
  {
   "cell_type": "code",
   "execution_count": null,
   "id": "8c374f0a-833a-4a88-8425-6faf5ff2207c",
   "metadata": {},
   "outputs": [],
   "source": [
    "df['movie_id'].nunique()"
   ]
  },
  {
   "cell_type": "code",
   "execution_count": null,
   "id": "a167e5e2-6fe0-4977-b5ca-2193842e0c44",
   "metadata": {},
   "outputs": [],
   "source": [
    "## merging dataframes"
   ]
  },
  {
   "cell_type": "code",
   "execution_count": null,
   "id": "39576564-6ff5-47d1-abc2-587eee79fbf7",
   "metadata": {},
   "outputs": [],
   "source": [
    "movie=pd.merge(df,df1,on='movie_id')"
   ]
  },
  {
   "cell_type": "code",
   "execution_count": null,
   "id": "f9691991-0640-4a9f-83c7-a109ccdbe32a",
   "metadata": {},
   "outputs": [],
   "source": [
    "movie.head()"
   ]
  },
  {
   "cell_type": "code",
   "execution_count": null,
   "id": "f8552b5b-a071-4b8e-914c-9427e1bf1b0f",
   "metadata": {},
   "outputs": [],
   "source": []
  },
  {
   "cell_type": "code",
   "execution_count": null,
   "id": "2cdfa71b-9d68-44f1-a62c-cd30d592a7d9",
   "metadata": {},
   "outputs": [],
   "source": []
  },
  {
   "cell_type": "code",
   "execution_count": null,
   "id": "b5b423e3-1ecc-487f-9288-ef3b43fa2e4a",
   "metadata": {},
   "outputs": [],
   "source": [
    "ratings=pd.DataFrame(movie.groupby('title')['rating'].mean().sort_values(ascending=False))"
   ]
  },
  {
   "cell_type": "code",
   "execution_count": null,
   "id": "f4a4e36d-15b3-4ef6-8664-3f52cd838490",
   "metadata": {},
   "outputs": [],
   "source": [
    "ratings['count']=movie['title'].value_counts()"
   ]
  },
  {
   "cell_type": "code",
   "execution_count": null,
   "id": "412ec9c9-119f-46aa-82cd-b1ac07dc6c20",
   "metadata": {},
   "outputs": [],
   "source": [
    "ratings.head(10)"
   ]
  },
  {
   "cell_type": "code",
   "execution_count": null,
   "id": "9e93e938-3684-42d8-95e6-4cb99c35062e",
   "metadata": {},
   "outputs": [],
   "source": [
    "ratings.sort_values(by='count',ascending=False).head(10)\n"
   ]
  },
  {
   "cell_type": "markdown",
   "id": "22954e26-667e-4153-9d2b-97bec0ba11a9",
   "metadata": {},
   "source": [
    "### remove the redundant or useless column i.e. ts"
   ]
  },
  {
   "cell_type": "code",
   "execution_count": null,
   "id": "2e455b38-b994-43f2-ad14-0e5d4f51d8c1",
   "metadata": {},
   "outputs": [],
   "source": [
    "movie.drop('ts',axis=1,inplace=True)"
   ]
  },
  {
   "cell_type": "code",
   "execution_count": null,
   "id": "72d4100e-1e67-4caf-af79-ac3a4e1ba193",
   "metadata": {},
   "outputs": [],
   "source": [
    "movie.head()"
   ]
  },
  {
   "cell_type": "code",
   "execution_count": null,
   "id": "08906437-d5ca-4bae-a8f6-214b7da87ccd",
   "metadata": {},
   "outputs": [],
   "source": [
    "movie.columns"
   ]
  },
  {
   "cell_type": "code",
   "execution_count": null,
   "id": "e973be52-cbee-46ea-b405-77ff718f6a91",
   "metadata": {},
   "outputs": [],
   "source": [
    "# find the number of rating for each movie\n",
    "movie['title'].value_counts().head(10)"
   ]
  },
  {
   "cell_type": "code",
   "execution_count": null,
   "id": "ecce96f1-be39-47a0-a091-2f0f8dd81115",
   "metadata": {},
   "outputs": [],
   "source": [
    "# find number of rating for each movie\n",
    "# movie.groupby('title').count()"
   ]
  },
  {
   "cell_type": "code",
   "execution_count": null,
   "id": "b3612dc1-614f-4b9e-97b7-02f262a3977c",
   "metadata": {},
   "outputs": [],
   "source": [
    "# find the aversge rating of each movie\n",
    "movie.groupby('title')['rating'].mean().sort_values(ascending=False).head(10)"
   ]
  },
  {
   "cell_type": "code",
   "execution_count": null,
   "id": "72ffaf88-decd-4434-afb2-3cafa6707e30",
   "metadata": {},
   "outputs": [],
   "source": [
    "ratings=pd.DataFrame(movie.groupby('title')['rating'].mean().sort_values(ascending=False))"
   ]
  },
  {
   "cell_type": "code",
   "execution_count": null,
   "id": "0597595e-78b5-4d1a-96a3-8e1b435d26b7",
   "metadata": {},
   "outputs": [],
   "source": [
    "ratings['count']=movie['title'].value_counts()"
   ]
  },
  {
   "cell_type": "code",
   "execution_count": null,
   "id": "44554ddb-2ce3-423f-806b-0ad6459b54cb",
   "metadata": {},
   "outputs": [],
   "source": [
    "ratings.head(10)"
   ]
  },
  {
   "cell_type": "code",
   "execution_count": null,
   "id": "52583146-0bb1-4d8d-8d4d-22abdfb03ca5",
   "metadata": {},
   "outputs": [],
   "source": [
    "ratings.sort_values(by='count',ascending=False).head(10)"
   ]
  },
  {
   "cell_type": "code",
   "execution_count": null,
   "id": "98552cdb-0f07-4a38-a751-1281ee686e7a",
   "metadata": {},
   "outputs": [],
   "source": [
    "movie_pivot=movie.pivot_table(index='user_id',columns='title',values='rating')\n",
    "movie_pivot.head()"
   ]
  },
  {
   "cell_type": "code",
   "execution_count": null,
   "id": "4c438a23",
   "metadata": {},
   "outputs": [],
   "source": []
  }
 ],
 "metadata": {
  "kernelspec": {
   "display_name": "Python 3 (ipykernel)",
   "language": "python",
   "name": "python3"
  },
  "language_info": {
   "codemirror_mode": {
    "name": "ipython",
    "version": 3
   },
   "file_extension": ".py",
   "mimetype": "text/x-python",
   "name": "python",
   "nbconvert_exporter": "python",
   "pygments_lexer": "ipython3",
   "version": "3.9.12"
  },
  "vscode": {
   "interpreter": {
    "hash": "213524bb45a1aeaf737b1d8c77d7b8db5d425938d9dffc5f4bc6fe6dd3324700"
   }
  }
 },
 "nbformat": 4,
 "nbformat_minor": 5
}
