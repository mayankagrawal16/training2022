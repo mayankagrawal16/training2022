{
 "cells": [
  {
   "cell_type": "code",
   "execution_count": 6,
   "id": "e5d02928-6e4a-46d8-bca4-85b4fc833544",
   "metadata": {},
   "outputs": [],
   "source": [
    "import numpy as np"
   ]
  },
  {
   "cell_type": "code",
   "execution_count": 2,
   "id": "8152cf5f-4208-492f-9234-908fda228363",
   "metadata": {},
   "outputs": [],
   "source": [
    "n=np.array([[1,2,3,4],[11,22,33,40],[5,7,9,90]])"
   ]
  },
  {
   "cell_type": "code",
   "execution_count": 3,
   "id": "7fa2523d-fed2-4a55-9a71-02ac81a46d2b",
   "metadata": {},
   "outputs": [
    {
     "data": {
      "text/plain": [
       "array([[ 1,  2,  3,  4],\n",
       "       [11, 22, 33, 40],\n",
       "       [ 5,  7,  9, 90]])"
      ]
     },
     "execution_count": 3,
     "metadata": {},
     "output_type": "execute_result"
    }
   ],
   "source": [
    "n"
   ]
  },
  {
   "cell_type": "code",
   "execution_count": 4,
   "id": "a8b95107-4b3e-4b66-869b-ef33943bd135",
   "metadata": {},
   "outputs": [
    {
     "data": {
      "text/plain": [
       "array([2, 3])"
      ]
     },
     "execution_count": 4,
     "metadata": {},
     "output_type": "execute_result"
    }
   ],
   "source": [
    "n[0,1:3]"
   ]
  },
  {
   "cell_type": "code",
   "execution_count": 5,
   "id": "6374f294-81cd-472c-915c-ebb1ba9bfa64",
   "metadata": {},
   "outputs": [
    {
     "data": {
      "text/plain": [
       "array([[33, 40],\n",
       "       [ 9, 90]])"
      ]
     },
     "execution_count": 5,
     "metadata": {},
     "output_type": "execute_result"
    }
   ],
   "source": [
    "n[1:3,2:4]"
   ]
  },
  {
   "cell_type": "code",
   "execution_count": 6,
   "id": "bf357ce4-0786-454f-b958-02bbc50e9c10",
   "metadata": {},
   "outputs": [
    {
     "data": {
      "text/plain": [
       "array([[33, 40],\n",
       "       [ 9, 90]])"
      ]
     },
     "execution_count": 6,
     "metadata": {},
     "output_type": "execute_result"
    }
   ],
   "source": [
    "n[1:,2:]"
   ]
  },
  {
   "cell_type": "code",
   "execution_count": 8,
   "id": "8adcc273-0f89-48c1-82db-dd8c0ea0c26d",
   "metadata": {},
   "outputs": [
    {
     "data": {
      "text/plain": [
       "array([[ 4],\n",
       "       [40],\n",
       "       [90]])"
      ]
     },
     "execution_count": 8,
     "metadata": {},
     "output_type": "execute_result"
    }
   ],
   "source": [
    "n[0:3,3:]"
   ]
  },
  {
   "cell_type": "markdown",
   "id": "d9abf869-99d6-4e0c-83fd-dd7144dc38ca",
   "metadata": {
    "tags": []
   },
   "source": [
    "# arange"
   ]
  },
  {
   "cell_type": "code",
   "execution_count": 14,
   "id": "25cf5ae8-cab4-4ede-87cd-a337f2ee434c",
   "metadata": {
    "jp-MarkdownHeadingCollapsed": true,
    "tags": []
   },
   "outputs": [
    {
     "data": {
      "text/plain": [
       "[5,\n",
       " 6,\n",
       " 7,\n",
       " 8,\n",
       " 9,\n",
       " 10,\n",
       " 11,\n",
       " 12,\n",
       " 13,\n",
       " 14,\n",
       " 15,\n",
       " 16,\n",
       " 17,\n",
       " 18,\n",
       " 19,\n",
       " 20,\n",
       " 21,\n",
       " 22,\n",
       " 23,\n",
       " 24,\n",
       " 25,\n",
       " 26,\n",
       " 27,\n",
       " 28,\n",
       " 29,\n",
       " 30,\n",
       " 31,\n",
       " 32,\n",
       " 33,\n",
       " 34,\n",
       " 35,\n",
       " 36,\n",
       " 37,\n",
       " 38,\n",
       " 39,\n",
       " 40,\n",
       " 41,\n",
       " 42,\n",
       " 43,\n",
       " 44,\n",
       " 45,\n",
       " 46,\n",
       " 47,\n",
       " 48,\n",
       " 49,\n",
       " 50]"
      ]
     },
     "execution_count": 14,
     "metadata": {},
     "output_type": "execute_result"
    }
   ],
   "source": [
    "list(range(5,51))"
   ]
  },
  {
   "cell_type": "code",
   "execution_count": 16,
   "id": "8a5d25e6-1d17-4447-ae30-f728f89c577a",
   "metadata": {},
   "outputs": [],
   "source": [
    "## arange fuction is used for arranging the range number wihout making it into list"
   ]
  },
  {
   "cell_type": "code",
   "execution_count": null,
   "id": "bfd2aa29-e2f2-4839-963a-3d3e03cf1fa5",
   "metadata": {},
   "outputs": [],
   "source": []
  },
  {
   "cell_type": "code",
   "execution_count": 18,
   "id": "991aac0b-dfe9-41fa-8423-5283886db920",
   "metadata": {},
   "outputs": [
    {
     "data": {
      "text/plain": [
       "array([ 5,  6,  7,  8,  9, 10, 11, 12, 13, 14, 15, 16, 17, 18, 19, 20, 21,\n",
       "       22, 23, 24, 25, 26, 27, 28, 29, 30, 31, 32, 33, 34, 35, 36, 37, 38,\n",
       "       39, 40, 41, 42, 43, 44, 45, 46, 47, 48, 49, 50])"
      ]
     },
     "execution_count": 18,
     "metadata": {},
     "output_type": "execute_result"
    }
   ],
   "source": [
    "np.arange(5,51)"
   ]
  },
  {
   "cell_type": "markdown",
   "id": "9fc25a53-49da-4aa0-814f-3ef40c43cfe8",
   "metadata": {},
   "source": [
    "# Reshape"
   ]
  },
  {
   "cell_type": "code",
   "execution_count": 3,
   "id": "5962eeea-b35b-4ab9-b6a5-b2d63d82c05c",
   "metadata": {},
   "outputs": [],
   "source": [
    "import numpy as np"
   ]
  },
  {
   "cell_type": "code",
   "execution_count": 4,
   "id": "74609061-0f39-4bb2-bf7a-ac110a820d30",
   "metadata": {},
   "outputs": [],
   "source": [
    "a=np.arange(12).reshape(3,4)"
   ]
  },
  {
   "cell_type": "code",
   "execution_count": 26,
   "id": "62d5df42-7d68-4d43-9312-d550aae9a0e6",
   "metadata": {},
   "outputs": [],
   "source": [
    "# reshape is used to shape the array by adjusting no. of rows and column"
   ]
  },
  {
   "cell_type": "code",
   "execution_count": null,
   "id": "f03b0b19-c2a7-4ae6-8a71-2aaab6b9700b",
   "metadata": {},
   "outputs": [],
   "source": []
  },
  {
   "cell_type": "code",
   "execution_count": 30,
   "id": "90614b4b-1d06-4658-a941-ec1e85db7205",
   "metadata": {},
   "outputs": [
    {
     "data": {
      "text/plain": [
       "9.0"
      ]
     },
     "execution_count": 30,
     "metadata": {},
     "output_type": "execute_result"
    }
   ],
   "source": [
    "np.sqrt(81)"
   ]
  },
  {
   "cell_type": "code",
   "execution_count": 27,
   "id": "4038f429-784e-4f2b-b0ab-7567f3d302d9",
   "metadata": {},
   "outputs": [
    {
     "data": {
      "text/plain": [
       "11"
      ]
     },
     "execution_count": 27,
     "metadata": {},
     "output_type": "execute_result"
    }
   ],
   "source": [
    "a.max()"
   ]
  },
  {
   "cell_type": "code",
   "execution_count": 28,
   "id": "09c81caf-10f2-4746-ad2b-59b22dc063ec",
   "metadata": {},
   "outputs": [
    {
     "data": {
      "text/plain": [
       "0"
      ]
     },
     "execution_count": 28,
     "metadata": {},
     "output_type": "execute_result"
    }
   ],
   "source": [
    "a.min()"
   ]
  },
  {
   "cell_type": "code",
   "execution_count": 31,
   "id": "beb8bd5d-97a8-449d-a226-7dd172ac0576",
   "metadata": {},
   "outputs": [
    {
     "data": {
      "text/plain": [
       "array([[ 0,  1,  2,  3],\n",
       "       [ 4,  5,  6,  7],\n",
       "       [ 8,  9, 10, 11]])"
      ]
     },
     "execution_count": 31,
     "metadata": {},
     "output_type": "execute_result"
    }
   ],
   "source": [
    "a"
   ]
  },
  {
   "cell_type": "code",
   "execution_count": 35,
   "id": "f073fbd1-1fce-4ab1-9c57-c75170e81168",
   "metadata": {},
   "outputs": [
    {
     "data": {
      "text/plain": [
       "11"
      ]
     },
     "execution_count": 35,
     "metadata": {},
     "output_type": "execute_result"
    }
   ],
   "source": [
    "a.argmax()"
   ]
  },
  {
   "cell_type": "code",
   "execution_count": 36,
   "id": "4d98df32-6046-4623-97d8-decfb4567c9f",
   "metadata": {},
   "outputs": [
    {
     "data": {
      "text/plain": [
       "array([[ 0,  2,  4,  6],\n",
       "       [ 8, 10, 12, 14],\n",
       "       [16, 18, 20, 22]])"
      ]
     },
     "execution_count": 36,
     "metadata": {},
     "output_type": "execute_result"
    }
   ],
   "source": [
    "a*2"
   ]
  },
  {
   "cell_type": "code",
   "execution_count": 37,
   "id": "e9d8d46d-e45a-4edd-a5d5-fd091ae68752",
   "metadata": {},
   "outputs": [
    {
     "data": {
      "text/plain": [
       "array([[10, 11, 12, 13],\n",
       "       [14, 15, 16, 17],\n",
       "       [18, 19, 20, 21]])"
      ]
     },
     "execution_count": 37,
     "metadata": {},
     "output_type": "execute_result"
    }
   ],
   "source": [
    "a+10"
   ]
  },
  {
   "cell_type": "markdown",
   "id": "298a8b98-977c-4090-8399-06f63a972ada",
   "metadata": {},
   "source": [
    "# random"
   ]
  },
  {
   "cell_type": "code",
   "execution_count": 38,
   "id": "287ff08d-c34a-4a3f-bc47-608fdcf82894",
   "metadata": {},
   "outputs": [
    {
     "data": {
      "text/plain": [
       "array([[0.69685388, 0.10363646],\n",
       "       [0.90633652, 0.50350053]])"
      ]
     },
     "execution_count": 38,
     "metadata": {},
     "output_type": "execute_result"
    }
   ],
   "source": [
    "np.random.rand(2,2)"
   ]
  },
  {
   "cell_type": "code",
   "execution_count": 39,
   "id": "5e8d3340-4dd6-45cc-8444-b249c32ab925",
   "metadata": {},
   "outputs": [
    {
     "data": {
      "text/plain": [
       "array([0.16050045, 0.54427641])"
      ]
     },
     "execution_count": 39,
     "metadata": {},
     "output_type": "execute_result"
    }
   ],
   "source": [
    "np.random.rand(2)"
   ]
  },
  {
   "cell_type": "code",
   "execution_count": 41,
   "id": "99477d13-f1e2-42f1-81d9-4fb42180c5ce",
   "metadata": {},
   "outputs": [
    {
     "data": {
      "text/plain": [
       "array([[ 0.84075126, -0.24579599],\n",
       "       [-0.98120309,  0.59539062]])"
      ]
     },
     "execution_count": 41,
     "metadata": {},
     "output_type": "execute_result"
    }
   ],
   "source": [
    "np.random.randn(2,2)"
   ]
  },
  {
   "cell_type": "code",
   "execution_count": 42,
   "id": "6fd97171-ac9e-48be-a44b-1473766cc664",
   "metadata": {},
   "outputs": [
    {
     "data": {
      "text/plain": [
       "array([16, 64, 22, 18, 49, 53, 77, 89, 49, 73, 70, 37])"
      ]
     },
     "execution_count": 42,
     "metadata": {},
     "output_type": "execute_result"
    }
   ],
   "source": [
    "np.random.randint(9,90,12)"
   ]
  },
  {
   "cell_type": "code",
   "execution_count": 46,
   "id": "f27f1164-acb5-4c3c-b917-bae3ff2256b8",
   "metadata": {},
   "outputs": [
    {
     "data": {
      "text/plain": [
       "array([[80, 73],\n",
       "       [11, 11],\n",
       "       [51, 30],\n",
       "       [62, 89],\n",
       "       [15, 58],\n",
       "       [66, 84]])"
      ]
     },
     "execution_count": 46,
     "metadata": {},
     "output_type": "execute_result"
    }
   ],
   "source": [
    " s=np.random.randint(9,90,12).reshape(6,2)"
   ]
  },
  {
   "cell_type": "code",
   "execution_count": 47,
   "id": "d10031ca-cb92-45f7-a48f-624c95c44a44",
   "metadata": {},
   "outputs": [
    {
     "data": {
      "text/plain": [
       "array([[73, 61],\n",
       "       [50, 30],\n",
       "       [58, 51],\n",
       "       [34, 65],\n",
       "       [47, 68],\n",
       "       [29, 73]])"
      ]
     },
     "execution_count": 47,
     "metadata": {},
     "output_type": "execute_result"
    }
   ],
   "source": [
    "s"
   ]
  },
  {
   "cell_type": "code",
   "execution_count": 48,
   "id": "cb1a2d2c-d3af-432d-88ac-fea777124f6a",
   "metadata": {},
   "outputs": [
    {
     "data": {
      "text/plain": [
       "639"
      ]
     },
     "execution_count": 48,
     "metadata": {},
     "output_type": "execute_result"
    }
   ],
   "source": [
    "s.sum()"
   ]
  },
  {
   "cell_type": "code",
   "execution_count": 50,
   "id": "cf02a79e-ff6a-4942-a64f-9704e81c757f",
   "metadata": {},
   "outputs": [
    {
     "data": {
      "text/plain": [
       "array([134,  80, 109,  99, 115, 102])"
      ]
     },
     "execution_count": 50,
     "metadata": {},
     "output_type": "execute_result"
    }
   ],
   "source": [
    "s.sum(axis=1)# for sum in rows"
   ]
  },
  {
   "cell_type": "code",
   "execution_count": 52,
   "id": "6913fad0-c834-4dba-8fdb-c2a4a40f31fa",
   "metadata": {},
   "outputs": [
    {
     "data": {
      "text/plain": [
       "array([291, 348])"
      ]
     },
     "execution_count": 52,
     "metadata": {},
     "output_type": "execute_result"
    }
   ],
   "source": [
    "s.sum(axis=0) # for sum in column"
   ]
  },
  {
   "cell_type": "markdown",
   "id": "56bc11f5-b66b-4549-a059-a56d5fd53451",
   "metadata": {},
   "source": [
    "# 3D array"
   ]
  },
  {
   "cell_type": "code",
   "execution_count": 7,
   "id": "c8d5bbf1-d4d7-47c7-ab00-2f0a161968ac",
   "metadata": {},
   "outputs": [],
   "source": [
    "d = np.array([[[4,40],[5,50],[6,60]] , [[7,70],[8,80],[9,90]] , [[5,55],[4,40],[6,60]]])"
   ]
  },
  {
   "cell_type": "code",
   "execution_count": 8,
   "id": "a883be1e-b0a7-43eb-a198-36fe586e00d7",
   "metadata": {},
   "outputs": [
    {
     "data": {
      "text/plain": [
       "(3, 3, 2)"
      ]
     },
     "execution_count": 8,
     "metadata": {},
     "output_type": "execute_result"
    }
   ],
   "source": [
    "d.shape"
   ]
  },
  {
   "cell_type": "code",
   "execution_count": 9,
   "id": "d762355f-a68f-4597-9839-5b13d7208e1d",
   "metadata": {},
   "outputs": [
    {
     "data": {
      "text/plain": [
       "(4, 3, 4)"
      ]
     },
     "execution_count": 9,
     "metadata": {},
     "output_type": "execute_result"
    }
   ],
   "source": [
    "(4,3,4)"
   ]
  },
  {
   "cell_type": "code",
   "execution_count": 61,
   "id": "dac5a91c-fdc6-469a-985a-7269b499c018",
   "metadata": {},
   "outputs": [],
   "source": [
    "# nan -not a number"
   ]
  },
  {
   "cell_type": "code",
   "execution_count": 62,
   "id": "f55106c8-1ee5-452a-b992-df643e720985",
   "metadata": {},
   "outputs": [],
   "source": [
    "x=np.array([12,56,np.nan,66,100,np.nan])"
   ]
  },
  {
   "cell_type": "code",
   "execution_count": 63,
   "id": "64d11172-fcc6-4fce-b05d-f46364b40c9e",
   "metadata": {},
   "outputs": [
    {
     "data": {
      "text/plain": [
       "array([ 12.,  56.,  nan,  66., 100.,  nan])"
      ]
     },
     "execution_count": 63,
     "metadata": {},
     "output_type": "execute_result"
    }
   ],
   "source": [
    "x"
   ]
  },
  {
   "cell_type": "code",
   "execution_count": 64,
   "id": "92e34637-b7b9-43da-8492-f0601c6f76ae",
   "metadata": {},
   "outputs": [
    {
     "data": {
      "text/plain": [
       "dtype('float64')"
      ]
     },
     "execution_count": 64,
     "metadata": {},
     "output_type": "execute_result"
    }
   ],
   "source": [
    "x.dtype"
   ]
  },
  {
   "cell_type": "code",
   "execution_count": null,
   "id": "96fc4057-1e5e-4633-a330-992a7d6ad2a6",
   "metadata": {},
   "outputs": [],
   "source": []
  }
 ],
 "metadata": {
  "kernelspec": {
   "display_name": "Python 3 (ipykernel)",
   "language": "python",
   "name": "python3"
  },
  "language_info": {
   "codemirror_mode": {
    "name": "ipython",
    "version": 3
   },
   "file_extension": ".py",
   "mimetype": "text/x-python",
   "name": "python",
   "nbconvert_exporter": "python",
   "pygments_lexer": "ipython3",
   "version": "3.9.12"
  }
 },
 "nbformat": 4,
 "nbformat_minor": 5
}
