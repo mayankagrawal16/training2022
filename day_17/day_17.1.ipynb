{
 "cells": [
  {
   "cell_type": "code",
   "execution_count": 1,
   "metadata": {},
   "outputs": [],
   "source": [
    "import matplotlib.pyplot as plt"
   ]
  },
  {
   "cell_type": "code",
   "execution_count": null,
   "metadata": {},
   "outputs": [],
   "source": [
    "#types of graphs\n",
    "1. plot-  line graph,between two parameters\n",
    "2. bar-  bar graph of single parameters\n",
    "3. hist- histogram of a unch of data i.e.frequency of single parameters\n",
    "4. scatter-do graph etween two parameters\n",
    "5. boxplot/ox-statstical overview in form of ox for a single parameters\n",
    "              mean .outliers,quantilies(25%,75%),IQR\n",
    "              (optional-categorial data)\n",
    "6. stem-  more like ar graph ,Lines isted of ars\n",
    "7. violinplot              "
   ]
  }
 ],
 "metadata": {
  "kernelspec": {
   "display_name": "Python 3.10.7 64-bit (microsoft store)",
   "language": "python",
   "name": "python3"
  },
  "language_info": {
   "codemirror_mode": {
    "name": "ipython",
    "version": 3
   },
   "file_extension": ".py",
   "mimetype": "text/x-python",
   "name": "python",
   "nbconvert_exporter": "python",
   "pygments_lexer": "ipython3",
   "version": "3.10.7"
  },
  "orig_nbformat": 4,
  "vscode": {
   "interpreter": {
    "hash": "5c41cc7a6bf458ae2af5583a7906ef5f402c759b4882f3cbfc8ede19b81b2d2f"
   }
  }
 },
 "nbformat": 4,
 "nbformat_minor": 2
}
